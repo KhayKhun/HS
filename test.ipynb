{
 "cells": [
  {
   "cell_type": "code",
   "execution_count": 31,
   "metadata": {},
   "outputs": [
    {
     "name": "stdout",
     "output_type": "stream",
     "text": [
      "Sai\n",
      "18\n",
      "OHOHOHOHOHHHHOOOOOOO\n",
      "1UwU2UwU3\n",
      "False\n",
      "True\n"
     ]
    }
   ],
   "source": [
    "print(\"Sai\")\n",
    "print(\"18\")\n",
    "print(\"OHOHOHOHOHHHHOOOOOOO\")\n",
    "\n",
    "print(\"1\", \"2\", \"3\", sep=\"UwU\")\n",
    "\n",
    "print(isinstance(1, bool))\n",
    "print(1 == True)"
   ]
  },
  {
   "cell_type": "markdown",
   "metadata": {},
   "source": [
    "## Variables"
   ]
  },
  {
   "cell_type": "code",
   "execution_count": 32,
   "metadata": {},
   "outputs": [],
   "source": [
    "# userName = input(\"What is your name?\")\n",
    "# print(\"Sup!\", userName)"
   ]
  },
  {
   "cell_type": "markdown",
   "metadata": {},
   "source": [
    "## Type Casting"
   ]
  },
  {
   "cell_type": "code",
   "execution_count": 33,
   "metadata": {},
   "outputs": [
    {
     "name": "stdout",
     "output_type": "stream",
     "text": [
      "3\n"
     ]
    }
   ],
   "source": [
    "x = int(3.5)\n",
    "x = int(3.9999)\n",
    "# x = int('-3.5')\n",
    "print(x)"
   ]
  },
  {
   "cell_type": "code",
   "execution_count": 34,
   "metadata": {},
   "outputs": [
    {
     "name": "stdout",
     "output_type": "stream",
     "text": [
      "True\n"
     ]
    }
   ],
   "source": [
    "y = bool(3)\n",
    "print(y)"
   ]
  },
  {
   "cell_type": "code",
   "execution_count": 35,
   "metadata": {},
   "outputs": [
    {
     "name": "stdout",
     "output_type": "stream",
     "text": [
      "False\n"
     ]
    }
   ],
   "source": [
    "z = bool('Snoop')\n",
    "z = bool(None)\n",
    "z = bool('')\n",
    "print(z)"
   ]
  },
  {
   "cell_type": "code",
   "execution_count": 36,
   "metadata": {},
   "outputs": [
    {
     "name": "stdout",
     "output_type": "stream",
     "text": [
      "'string in string in string in string'\n"
     ]
    }
   ],
   "source": [
    "print(str(\"'\"'string in string in string in string'\"'\"))"
   ]
  },
  {
   "cell_type": "code",
   "execution_count": 37,
   "metadata": {},
   "outputs": [
    {
     "name": "stdout",
     "output_type": "stream",
     "text": [
      "2916.0\n"
     ]
    }
   ],
   "source": [
    "x = 9\n",
    "\n",
    "x += 1\n",
    "x -= 1\n",
    "x *= 3\n",
    "x /= 0.5\n",
    "x **= 2\n",
    "print(x)"
   ]
  },
  {
   "cell_type": "markdown",
   "metadata": {},
   "source": [
    "## Logical opertors"
   ]
  },
  {
   "cell_type": "code",
   "execution_count": 39,
   "metadata": {},
   "outputs": [
    {
     "name": "stdout",
     "output_type": "stream",
     "text": [
      "False\n",
      "True\n"
     ]
    }
   ],
   "source": [
    "not True\n",
    "okay = not (True or False) and (False and False)\n",
    "print(okay)\n",
    "print(4 > 3 and 69 == int('69'))"
   ]
  },
  {
   "cell_type": "code",
   "execution_count": 3,
   "metadata": {},
   "outputs": [
    {
     "data": {
      "text/plain": [
       "True"
      ]
     },
     "execution_count": 3,
     "metadata": {},
     "output_type": "execute_result"
    }
   ],
   "source": [
    "3 > 4\n",
    "3 < 4\n",
    "3 >= 4\n",
    "3 <= 4\n",
    "3 == 4\n",
    "3 != 4"
   ]
  },
  {
   "cell_type": "code",
   "execution_count": 7,
   "metadata": {},
   "outputs": [
    {
     "data": {
      "text/plain": [
       "True"
      ]
     },
     "execution_count": 7,
     "metadata": {},
     "output_type": "execute_result"
    }
   ],
   "source": [
    "4 > 2 > 1 < 69 == 69 > 8 # Nice"
   ]
  },
  {
   "cell_type": "markdown",
   "metadata": {},
   "source": [
    "## More"
   ]
  },
  {
   "cell_type": "code",
   "execution_count": 41,
   "metadata": {},
   "outputs": [
    {
     "name": "stdout",
     "output_type": "stream",
     "text": [
      "89\n"
     ]
    }
   ],
   "source": [
    "x = int(input(\"Put something 1 - \"))\n",
    "y = int(input(\"Put something 2 - \"))\n",
    "result = x + y\n",
    "\n",
    "print(result)"
   ]
  },
  {
   "cell_type": "code",
   "execution_count": 45,
   "metadata": {},
   "outputs": [
    {
     "name": "stdout",
     "output_type": "stream",
     "text": [
      "{'Celsius': 26.85, 'Fahrenheit': 80.33, 'Kelvin': 300.0}\n"
     ]
    }
   ],
   "source": [
    "user_temperature = float(input(\"Enter the temperature  - \"))\n",
    "user_unit = input(\"Enter the temperature unit (C, F, or K) - \")\n",
    "\n",
    "if user_unit.upper() == 'C':\n",
    "    celsius = user_temperature\n",
    "elif user_unit.upper() == 'F':\n",
    "    celsius = (user_temperature - 32) * 5 / 9\n",
    "elif user_unit.upper() == 'K':\n",
    "    celsius = user_temperature - 273.15\n",
    "else:\n",
    "    print('Invalid unit :(')\n",
    "\n",
    "\n",
    "fahrenheit = (celsius * 9/5) + 32\n",
    "kelvin = celsius + 273.15\n",
    "\n",
    "result = {\n",
    "    'Celsius': round(celsius, 2),\n",
    "    'Fahrenheit': round(fahrenheit, 2),\n",
    "    'Kelvin': round(kelvin, 2)\n",
    "}\n",
    "\n",
    "print(result)"
   ]
  },
  {
   "cell_type": "code",
   "execution_count": 51,
   "metadata": {},
   "outputs": [
    {
     "data": {
      "text/plain": [
       "900"
      ]
     },
     "execution_count": 51,
     "metadata": {},
     "output_type": "execute_result"
    }
   ],
   "source": [
    "round(889,-2)"
   ]
  },
  {
   "cell_type": "markdown",
   "metadata": {},
   "source": [
    "## Turle (Late Ninja)"
   ]
  },
  {
   "cell_type": "code",
   "execution_count": null,
   "metadata": {},
   "outputs": [],
   "source": [
    "import turtle\n",
    "\n"
   ]
  }
 ],
 "metadata": {
  "kernelspec": {
   "display_name": "oknrsr",
   "language": "python",
   "name": "python3"
  },
  "language_info": {
   "codemirror_mode": {
    "name": "ipython",
    "version": 3
   },
   "file_extension": ".py",
   "mimetype": "text/x-python",
   "name": "python",
   "nbconvert_exporter": "python",
   "pygments_lexer": "ipython3",
   "version": "3.12.5"
  }
 },
 "nbformat": 4,
 "nbformat_minor": 2
}
